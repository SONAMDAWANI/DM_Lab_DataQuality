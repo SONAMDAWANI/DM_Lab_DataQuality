{
 "cells": [
  {
   "cell_type": "code",
   "execution_count": 1,
   "metadata": {
    "scrolled": true
   },
   "outputs": [],
   "source": [
    "from datetime import datetime\n",
    "from constants.CONSTANTS import *\n",
    "from aia_image_api import imageparam_getter as ipg\n",
    "import numpy as np\n",
    "from datetime import timedelta \n",
    "import pandas as pd\n",
    "import matplotlib.pyplot as plt\n",
    "import matplotlib.dates as mdates"
   ]
  },
  {
   "cell_type": "code",
   "execution_count": 7,
   "metadata": {
    "scrolled": false
   },
   "outputs": [
    {
     "data": {
      "image/png": "[encoded data removed]",
      "text/plain": [
       "<Figure size 432x288 with 1 Axes>"
      ]
     },
     "metadata": {
      "needs_background": "light"
     },
     "output_type": "display_data"
    }
   ],
   "source": [
    "def QualityChecker_single(dt_start,days2check,aia_wave,image_size,param_id,DatesDF):\n",
    "    dt=dt_start=datetime.strptime(dt_start, '%Y-%m-%dT%H:%M:%S')\n",
    "    dt_stop = dt_start+timedelta(days=days2check) \n",
    "    while dt<dt_stop:\n",
    "        if (DatesDF['date']==dt).any():\n",
    "            dt=dt+timedelta(minutes=6)\n",
    "            continue\n",
    "        xml = ipg.get_aia_imageparam_xml(dt, aia_wave)\n",
    "        res = ipg.convert_param_xml_to_ndarray(xml)\n",
    "        entropyValues=res[:,:,(int(param_id)-1):int(param_id)].reshape(64, 64)\n",
    "        if dt==dt_start:\n",
    "            lastcorrectmat=entropyValues\n",
    "            dt=dt+timedelta(minutes=6)\n",
    "            continue\n",
    "        diffmat_from_last_correct=np.absolute(np.subtract(lastcorrectmat, entropyValues))\n",
    "        rot_diffmat_from_last_correct=np.absolute(np.subtract(lastcorrectmat, np.rot90(entropyValues)))\n",
    "        diffsum=np.sum(diffmat_from_last_correct)\n",
    "        rot_diffsum=np.sum(rot_diffmat_from_last_correct)\n",
    "        if rot_diffsum<diffsum:\n",
    "            DatesDF.loc[len(DatesDF)]=[dt,diffsum,0,aia_wave,image_size,param_id]\n",
    "            lastcorrectmat=np.rot90(entropyValues)\n",
    "        else:\n",
    "            DatesDF.loc[len(DatesDF)]=[dt,diffsum,1,aia_wave,image_size,param_id]\n",
    "            lastcorrectmat=entropyValues\n",
    "\n",
    "        dt=dt+timedelta(minutes=6)  \n",
    "    return DatesDF\n",
    "\n",
    "def QualityChecker(dt_start,days2check,aia_wave_array,image_size_array,param_id_array):\n",
    "    '''\n",
    "    dt_start should be string in format YYYY-MM-DDTHH:MM:SS example: 2012-04-12T16:10:00\n",
    "    days2check represents how many days from start date you want to check quality example: 0.2, 1, 5, 30\n",
    "    '''\n",
    "    DatesDF=pd.DataFrame(columns=['date','diff','good','aia_wave','image_size','param_id'])\n",
    "    for aia_wave in aia_wave_array:\n",
    "        for image_size in image_size_array:\n",
    "            for param_id in param_id_array:\n",
    "                DatesDF=QualityChecker_single(dt_start,days2check,aia_wave,image_size,param_id,DatesDF)\n",
    "    DatesDFplot=DatesDF[['date','good']].sort_values(by=['date']).reset_index(drop=True)\n",
    "    fig, ax = plt.subplots(1)\n",
    "    fig.autofmt_xdate()\n",
    "    fig.text(0.04, 0.5, 'Image Result', va='center', rotation='vertical')\n",
    "    plt.suptitle('Image Result \\n 1 - Image is fine \\n 0 - Image is Rotated', x=0.5, y=1.05, ha='center', fontsize='x-large')\n",
    "    plt.plot(DatesDFplot['date'],DatesDFplot['good'])\n",
    "    xfmt = mdates.DateFormatter('%d-%m-%y %H:%M')\n",
    "    ax.xaxis.set_major_formatter(xfmt)\n",
    "    plt.show()\n",
    "    \n",
    "    improper_images_DatesDF=DatesDF[DatesDF['good']==0]\n",
    "    improper_images_DatesDF['date'].to_excel(\"ImproperImagesDates.xlsx\",header=False,index=False)\n",
    "    return DatesDF\n",
    "\n",
    "DatesDF=QualityChecker('2012-04-12T16:10:00',2.25,[AIA_WAVE.AIA_171],[IMAGE_SIZE.P2000],['1'])"
   ]
  },
  {
   "cell_type": "markdown",
   "metadata": {},
   "source": [
    "## To get the images to check the results"
   ]
  },
  {
   "cell_type": "markdown",
   "metadata": {},
   "source": [
    "### To get the images for a range of time"
   ]
  },
  {
   "cell_type": "code",
   "execution_count": 97,
   "metadata": {},
   "outputs": [],
   "source": [
    "def getImagesinTimeRange(dt_start,days2check,aia_wave,image_size,param_id):\n",
    "    dt=dt_start = datetime.strptime(dt_start, '%Y-%m-%dT%H:%M:%S')\n",
    "    dt_stop = dt_start + timedelta(days=days2check)\n",
    "    while dt < dt_stop:\n",
    "        heatmap = ipg.get_aia_imageparam_jpeg(dt, aia_wave, image_size, param_id)\n",
    "        heatmap.save('SunImages/' + str(dt) + '.png')\n",
    "        dt = dt + timedelta(minutes=6)\n",
    "\n",
    "dt_start='2012-04-12T16:10:00'\n",
    "days2check=2.25\n",
    "aia_wave = AIA_WAVE.AIA_171\n",
    "image_size = IMAGE_SIZE.P2000\n",
    "param_id = '1'\n",
    "\n",
    "getImagesinTimeRange(dt_start,days2check,aia_wave,image_size,param_id)"
   ]
  },
  {
   "cell_type": "markdown",
   "metadata": {},
   "source": [
    "### To get the image of a particular timestamp"
   ]
  },
  {
   "cell_type": "code",
   "execution_count": 86,
   "metadata": {},
   "outputs": [],
   "source": [
    "def getImage(dt,aia_wave,image_size,param_id):\n",
    "    dt = datetime.strptime(dt, '%Y-%m-%dT%H:%M:%S')\n",
    "    heatmap = ipg.get_aia_imageparam_jpeg(dt, aia_wave, image_size, param_id)\n",
    "    heatmap.save('SunImages/' + str(dt) + '.png')\n",
    "\n",
    "dt='2012-04-14T15:04:00'\n",
    "aia_wave = AIA_WAVE.AIA_171\n",
    "image_size = IMAGE_SIZE.P2000\n",
    "param_id = '1'\n",
    "\n",
    "getImage(dt,aia_wave,image_size,param_id)"
   ]
  }
 ],
 "metadata": {
  "kernelspec": {
   "display_name": "Python 3",
   "language": "python",
   "name": "python3"
  },
  "language_info": {
   "codemirror_mode": {
    "name": "ipython",
    "version": 3
   },
   "file_extension": ".py",
   "mimetype": "text/x-python",
   "name": "python",
   "nbconvert_exporter": "python",
   "pygments_lexer": "ipython3",
   "version": "3.7.3"
  }
 },
 "nbformat": 4,
 "nbformat_minor": 2
}
