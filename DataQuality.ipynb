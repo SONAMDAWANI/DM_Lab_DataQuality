{
 "cells": [
  {
   "cell_type": "code",
   "execution_count": 1,
   "metadata": {
    "scrolled": true
   },
   "outputs": [],
   "source": [
    "from datetime import datetime\n",
    "from constants.CONSTANTS import *\n",
    "from aia_image_api import imageparam_getter as ipg\n",
    "import numpy as np\n",
    "from datetime import timedelta "
   ]
  },
  {
   "cell_type": "code",
   "execution_count": 2,
   "metadata": {},
   "outputs": [
    {
     "name": "stdout",
     "output_type": "stream",
     "text": [
      "2012-04-12 17:10:00, 12.791807795249042\n",
      "2012-04-12 17:16:00, 12.853575028857449\n",
      "2012-04-12 17:22:00, 12.869614052411634\n",
      "2012-04-12 17:28:00, 12.864928136739763\n",
      "2012-04-12 17:34:00, 12.882714058025158\n",
      "2012-04-12 17:40:00, 12.966001552209491\n",
      "2012-04-12 17:46:00, 12.938646883121692\n",
      "2012-04-12 17:52:00, 12.971201573105645\n",
      "2012-04-12 17:58:00, 12.9245109049225\n",
      "2012-04-12 18:04:00, 12.975603122162283\n",
      "2012-04-12 18:10:00, 12.973726508193067\n",
      "2012-04-12 18:16:00, 12.989567192475079\n",
      "2012-04-12 18:22:00, 13.001639064546907\n",
      "2012-04-12 18:28:00, 12.986754647368798\n",
      "2012-04-12 18:34:00, 12.974989108915906\n",
      "2012-04-12 18:40:00, 12.967489064860274\n",
      "2012-04-12 18:46:00, 12.919362446744344\n",
      "2012-04-12 18:52:00, 12.928809370248928\n",
      "2012-04-12 18:58:00, 12.922893741488224\n",
      "2012-04-12 19:04:00, 12.905189072349458\n",
      "2012-04-12 19:10:00, 12.887162450890173\n",
      "2012-04-12 19:16:00, 12.942373475889326\n",
      "2012-04-12 19:22:00, 13.012556288420456\n",
      "2012-04-12 19:28:00, 12.930831298115663\n",
      "2012-04-12 19:34:00, 12.872950040298747\n",
      "2012-04-12 19:40:00, 12.935689088219078\n",
      "2012-04-12 19:46:00, 13.013137495712726\n",
      "2012-04-12 19:52:00, 12.999001616437454\n",
      "2012-04-12 19:58:00, 13.001951577098225\n",
      "2012-04-12 20:04:00, 12.960009410555358\n",
      "2012-04-12 20:10:00, 12.924501614485052\n",
      "2012-04-12 20:16:00, 12.910195340809878\n",
      "2012-04-12 20:22:00, 12.912548459979007\n",
      "2012-04-12 20:28:00, 12.963065657269908\n",
      "2012-04-12 20:34:00, 12.967457852486405\n",
      "2012-04-12 20:40:00, 12.953228141239379\n",
      "2012-04-12 20:46:00, 12.957235984955332\n",
      "2012-04-12 20:52:00, 12.9680671995593\n"
     ]
    }
   ],
   "source": [
    "dt_start = datetime.strptime('2012-04-12T16:10:00', '%Y-%m-%dT%H:%M:%S')\n",
    "dt_stop = dt_start+timedelta(days=0.2)  \n",
    "\n",
    "dt=dt_start\n",
    "aia_wave = AIA_WAVE.AIA_171\n",
    "image_size = IMAGE_SIZE.P2000\n",
    "param_id = '1'\n",
    "\n",
    "thereshold=5\n",
    "lastcorrectmat88=np.zeros((8, 8))\n",
    "\n",
    "while dt<dt_stop:\n",
    "    \n",
    "    xml = ipg.get_aia_imageparam_xml(dt, aia_wave)\n",
    "    res = ipg.convert_param_xml_to_ndarray(xml)\n",
    "    entropyValues=res[:,:,(int(param_id)-1):int(param_id)].reshape(64, 64)\n",
    "\n",
    "    mat88=np.zeros((8, 8))\n",
    "    for n in range(8):\n",
    "        for m in range(8):\n",
    "            aggvalue=0\n",
    "            for i in range(8*n,(8*n)+8):\n",
    "                for j in range(8*m,(8*m)+8):\n",
    "                    aggvalue=aggvalue+entropyValues[i,j]\n",
    "            cellvalue=aggvalue/64\n",
    "            mat88[n,m]=cellvalue\n",
    "    \n",
    "    if np.all(lastcorrectmat88==np.zeros((8, 8))):\n",
    "        lastcorrectmat88=mat88\n",
    "    diffmat_from_last_correct=np.absolute(np.subtract(lastcorrectmat88, mat88))\n",
    "    diffsum=np.sum(diffmat_from_last_correct)\n",
    "    \n",
    "    if diffsum>thereshold:\n",
    "        print(dt,end=', ')\n",
    "        print(diffsum)\n",
    "    else:\n",
    "        lastcorrectmat88=mat88\n",
    "    \n",
    "    dt=dt+timedelta(minutes=6)  "
   ]
  },
  {
   "cell_type": "code",
   "execution_count": 81,
   "metadata": {},
   "outputs": [],
   "source": [
    "dt_start = datetime.strptime('2012-04-12T16:10:00', '%Y-%m-%dT%H:%M:%S')\n",
    "dt_stop = dt_start+timedelta(days=0.2)  \n",
    "\n",
    "dt=dt_start\n",
    "aia_wave = AIA_WAVE.AIA_171\n",
    "image_size = IMAGE_SIZE.P2000\n",
    "param_id = '1'\n",
    "\n",
    "while dt<dt_stop:\n",
    "    \n",
    "    heatmap = ipg.get_aia_imageparam_jpeg(dt, aia_wave, image_size, param_id)\n",
    "    heatmap.save('testimg/'+str(dt)+'.png') \n",
    "    \n",
    "    dt=dt+timedelta(minutes=6)  "
   ]
  },
  {
   "cell_type": "code",
   "execution_count": null,
   "metadata": {},
   "outputs": [],
   "source": []
  }
 ],
 "metadata": {
  "kernelspec": {
   "display_name": "Python 3",
   "language": "python",
   "name": "python3"
  },
  "language_info": {
   "codemirror_mode": {
    "name": "ipython",
    "version": 3
   },
   "file_extension": ".py",
   "mimetype": "text/x-python",
   "name": "python",
   "nbconvert_exporter": "python",
   "pygments_lexer": "ipython3",
   "version": "3.7.3"
  }
 },
 "nbformat": 4,
 "nbformat_minor": 2
}
