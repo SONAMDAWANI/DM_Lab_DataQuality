{
 "cells": [
  {
   "cell_type": "code",
   "execution_count": 90,
   "metadata": {
    "scrolled": true
   },
   "outputs": [],
   "source": [
    "from datetime import datetime\n",
    "from constants.CONSTANTS import *\n",
    "from aia_image_api import imageparam_getter as ipg\n",
    "import numpy as np\n",
    "from datetime import timedelta "
   ]
  },
  {
   "cell_type": "code",
   "execution_count": 91,
   "metadata": {},
   "outputs": [
    {
     "ename": "ParseError",
     "evalue": "not well-formed (invalid token): line 3, column 150 (<string>)",
     "output_type": "error",
     "traceback": [
      "Traceback \u001b[0;36m(most recent call last)\u001b[0m:\n",
      "  File \u001b[1;32m\"//anaconda3/lib/python3.7/site-packages/IPython/core/interactiveshell.py\"\u001b[0m, line \u001b[1;32m3325\u001b[0m, in \u001b[1;35mrun_code\u001b[0m\n    exec(code_obj, self.user_global_ns, self.user_ns)\n",
      "  File \u001b[1;32m\"<ipython-input-91-6313c60206cb>\"\u001b[0m, line \u001b[1;32m14\u001b[0m, in \u001b[1;35m<module>\u001b[0m\n    xml = ipg.get_aia_imageparam_xml(dt, aia_wave)\n",
      "  File \u001b[1;32m\"/Users/sonamdawani/Documents/DMLab/DataQuality/aia_image_api/imageparam_getter.py\"\u001b[0m, line \u001b[1;32m75\u001b[0m, in \u001b[1;35mget_aia_imageparam_xml\u001b[0m\n    xml_content = et.fromstring(response.content)\n",
      "\u001b[0;36m  File \u001b[0;32m\"//anaconda3/lib/python3.7/xml/etree/ElementTree.py\"\u001b[0;36m, line \u001b[0;32m1315\u001b[0;36m, in \u001b[0;35mXML\u001b[0;36m\u001b[0m\n\u001b[0;31m    parser.feed(text)\u001b[0m\n",
      "\u001b[0;36m  File \u001b[0;32m\"<string>\"\u001b[0;36m, line \u001b[0;32munknown\u001b[0m\n\u001b[0;31mParseError\u001b[0m\u001b[0;31m:\u001b[0m not well-formed (invalid token): line 3, column 150\n"
     ]
    }
   ],
   "source": [
    "dt_start = datetime.strptime('2012-04-12T16:10:00', '%Y-%m-%dT%H:%M:%S')\n",
    "dt_stop = dt_start+timedelta(days=0.2)  \n",
    "\n",
    "dt=dt_start\n",
    "aia_wave = AIA_WAVE.AIA_171\n",
    "image_size = IMAGE_SIZE.P2000\n",
    "param_id = '1'\n",
    "\n",
    "thereshold=5\n",
    "lastcorrectmat88=np.zeros((8, 8))\n",
    "\n",
    "while dt<dt_stop:\n",
    "    \n",
    "    xml = ipg.get_aia_imageparam_xml(dt, aia_wave)\n",
    "    res = ipg.convert_param_xml_to_ndarray(xml)\n",
    "    entropyValues=res[:,:,(int(param_id)-1):int(param_id)].reshape(64, 64)\n",
    "\n",
    "    mat88=np.zeros((8, 8))\n",
    "    for n in range(8):\n",
    "        for m in range(8):\n",
    "            aggvalue=0\n",
    "            for i in range(8*n,(8*n)+8):\n",
    "                for j in range(8*m,(8*m)+8):\n",
    "                    aggvalue=aggvalue+entropyValues[i,j]\n",
    "            cellvalue=aggvalue/64\n",
    "            mat88[n,m]=cellvalue\n",
    "    \n",
    "    if np.all(lastcorrectmat88==np.zeros((8, 8))):\n",
    "        lastcorrectmat88=mat88\n",
    "    diffmat_from_last_correct=np.absolute(np.subtract(lastcorrectmat88, mat88))\n",
    "    diffsum=np.sum(diffmat_from_last_correct)\n",
    "    \n",
    "    if diffsum>thereshold:\n",
    "        print(dt,end=', ')\n",
    "        print(diffsum)\n",
    "    else:\n",
    "        lastcorrectmat88=mat88\n",
    "    \n",
    "    dt=dt+timedelta(minutes=6)  "
   ]
  },
  {
   "cell_type": "code",
   "execution_count": 81,
   "metadata": {},
   "outputs": [],
   "source": [
    "dt_start = datetime.strptime('2012-04-12T16:10:00', '%Y-%m-%dT%H:%M:%S')\n",
    "dt_stop = dt_start+timedelta(days=0.2)  \n",
    "\n",
    "dt=dt_start\n",
    "aia_wave = AIA_WAVE.AIA_171\n",
    "image_size = IMAGE_SIZE.P2000\n",
    "param_id = '1'\n",
    "\n",
    "while dt<dt_stop:\n",
    "    \n",
    "    heatmap = ipg.get_aia_imageparam_jpeg(dt, aia_wave, image_size, param_id)\n",
    "    heatmap.save('testimg/'+str(dt)+'.png') \n",
    "    \n",
    "    dt=dt+timedelta(minutes=6)  "
   ]
  },
  {
   "cell_type": "code",
   "execution_count": null,
   "metadata": {},
   "outputs": [],
   "source": []
  }
 ],
 "metadata": {
  "kernelspec": {
   "display_name": "Python 3",
   "language": "python",
   "name": "python3"
  },
  "language_info": {
   "codemirror_mode": {
    "name": "ipython",
    "version": 3
   },
   "file_extension": ".py",
   "mimetype": "text/x-python",
   "name": "python",
   "nbconvert_exporter": "python",
   "pygments_lexer": "ipython3",
   "version": "3.7.3"
  }
 },
 "nbformat": 4,
 "nbformat_minor": 2
}
