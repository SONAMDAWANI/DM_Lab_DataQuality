{
 "cells": [
  {
   "cell_type": "code",
   "execution_count": 1,
   "metadata": {
    "scrolled": true
   },
   "outputs": [],
   "source": [
    "from datetime import datetime\n",
    "from constants.CONSTANTS import *\n",
    "from aia_image_api import imageparam_getter as ipg\n",
    "import numpy as np\n",
    "from datetime import timedelta \n",
    "import pandas as pd\n",
    "import matplotlib.pyplot as plt\n",
    "import matplotlib.dates as mdates\n",
    "import time\n",
    "import QualityChecker"
   ]
  },
  {
   "cell_type": "code",
   "execution_count": 3,
   "metadata": {
    "scrolled": false
   },
   "outputs": [
    {
     "name": "stderr",
     "output_type": "stream",
     "text": [
      "//anaconda3/lib/python3.7/site-packages/pandas/plotting/_converter.py:129: FutureWarning: Using an implicitly registered datetime converter for a matplotlib plotting method. The converter was registered by pandas on import. Future versions of pandas will require you to explicitly register matplotlib converters.\n",
      "\n",
      "To register the converters:\n",
      "\t>>> from pandas.plotting import register_matplotlib_converters\n",
      "\t>>> register_matplotlib_converters()\n",
      "  warnings.warn(msg, FutureWarning)\n"
     ]
    },
    {
     "data": {
      "image/png": "[encoded data removed]",
      "text/plain": [
       "<Figure size 432x288 with 1 Axes>"
      ]
     },
     "metadata": {
      "needs_background": "light"
     },
     "output_type": "display_data"
    },
    {
     "name": "stdout",
     "output_type": "stream",
     "text": [
      "Operation complete - 38.43914794921875 seconds elapsed.\n"
     ]
    }
   ],
   "source": [
    "dt_start='2012-04-12T16:10:00'\n",
    "dt_stop='2012-04-12T17:20:00'\n",
    "aia_wave_array = [AIA_WAVE.AIA_171]\n",
    "image_size_array = [IMAGE_SIZE.P2000]\n",
    "param_id_array = ['1']\n",
    "\n",
    "start = time.time()\n",
    "# DatesDF=QualityChecker.QualityChecker('2012-04-12T16:10:00','2012-04-15T00:10:00',[AIA_WAVE.AIA_171],[IMAGE_SIZE.P2000],['1'])\n",
    "DatesDF=QualityChecker.QualityChecker(dt_start,dt_stop,aia_wave_array,image_size_array,param_id_array)\n",
    "end = time.time()\n",
    "print(\"Operation complete - %s seconds elapsed.\" % (end - start))"
   ]
  },
  {
   "cell_type": "markdown",
   "metadata": {},
   "source": [
    "## To get the images to check the results"
   ]
  },
  {
   "cell_type": "markdown",
   "metadata": {},
   "source": [
    "### To get the images for a range of time"
   ]
  },
  {
   "cell_type": "code",
   "execution_count": null,
   "metadata": {},
   "outputs": [],
   "source": [
    "dt_start='2012-04-12T16:10:00'\n",
    "dt_stop='2012-04-12T17:30:00'\n",
    "aia_wave = AIA_WAVE.AIA_171\n",
    "image_size = IMAGE_SIZE.P2000\n",
    "param_id = '10'\n",
    "\n",
    "start = time.time()\n",
    "QualityChecker.getImagesinTimeRange(dt_start,dt_stop,aia_wave,image_size,param_id)\n",
    "end = time.time()\n",
    "print(\"Operation complete - %s seconds elapsed.\" % (end - start))"
   ]
  },
  {
   "cell_type": "markdown",
   "metadata": {},
   "source": [
    "### To get the image of a particular timestamp"
   ]
  },
  {
   "cell_type": "code",
   "execution_count": null,
   "metadata": {},
   "outputs": [],
   "source": [
    "dt='2012-04-14T15:04:00'\n",
    "aia_wave = AIA_WAVE.AIA_171\n",
    "image_size = IMAGE_SIZE.P2000\n",
    "param_id = '1'\n",
    "\n",
    "start = time.time()\n",
    "QualityChecker.getImage(dt,aia_wave,image_size,param_id)\n",
    "end = time.time()\n",
    "print(\"Operation complete - %s seconds elapsed.\" % (end - start))"
   ]
  }
 ],
 "metadata": {
  "kernelspec": {
   "display_name": "Python 3",
   "language": "python",
   "name": "python3"
  },
  "language_info": {
   "codemirror_mode": {
    "name": "ipython",
    "version": 3
   },
   "file_extension": ".py",
   "mimetype": "text/x-python",
   "name": "python",
   "nbconvert_exporter": "python",
   "pygments_lexer": "ipython3",
   "version": "3.7.3"
  }
 },
 "nbformat": 4,
 "nbformat_minor": 2
}
